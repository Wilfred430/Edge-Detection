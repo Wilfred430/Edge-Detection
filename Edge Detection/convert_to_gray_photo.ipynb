{
 "cells": [
  {
   "cell_type": "markdown",
   "id": "8af38073",
   "metadata": {},
   "source": [
    "#### Convert RGB to gray image "
   ]
  },
  {
   "cell_type": "code",
   "execution_count": 2,
   "id": "422d8a8e",
   "metadata": {},
   "outputs": [
    {
     "ename": "error",
     "evalue": "OpenCV(4.12.0) D:\\a\\opencv-python\\opencv-python\\opencv\\modules\\highgui\\src\\window.cpp:1301: error: (-2:Unspecified error) The function is not implemented. Rebuild the library with Windows, GTK+ 2.x or Cocoa support. If you are on Ubuntu or Debian, install libgtk2.0-dev and pkg-config, then re-run cmake or configure script in function 'cvShowImage'\n",
     "output_type": "error",
     "traceback": [
      "\u001b[31m---------------------------------------------------------------------------\u001b[39m",
      "\u001b[31merror\u001b[39m                                     Traceback (most recent call last)",
      "\u001b[36mCell\u001b[39m\u001b[36m \u001b[39m\u001b[32mIn[2]\u001b[39m\u001b[32m, line 13\u001b[39m\n\u001b[32m     10\u001b[39m cv2.imwrite(\u001b[33m'\u001b[39m\u001b[33mgray fighter.jpg\u001b[39m\u001b[33m'\u001b[39m, gray_image)\n\u001b[32m     12\u001b[39m \u001b[38;5;66;03m# 顯示影像（可選）\u001b[39;00m\n\u001b[32m---> \u001b[39m\u001b[32m13\u001b[39m \u001b[43mcv2\u001b[49m\u001b[43m.\u001b[49m\u001b[43mimshow\u001b[49m\u001b[43m(\u001b[49m\u001b[33;43m'\u001b[39;49m\u001b[33;43mGray Image\u001b[39;49m\u001b[33;43m'\u001b[39;49m\u001b[43m,\u001b[49m\u001b[43m \u001b[49m\u001b[43mgray_image\u001b[49m\u001b[43m)\u001b[49m\n\u001b[32m     14\u001b[39m cv2.waitKey(\u001b[32m0\u001b[39m)\n\u001b[32m     15\u001b[39m cv2.destroyAllWindows()\n",
      "\u001b[31merror\u001b[39m: OpenCV(4.12.0) D:\\a\\opencv-python\\opencv-python\\opencv\\modules\\highgui\\src\\window.cpp:1301: error: (-2:Unspecified error) The function is not implemented. Rebuild the library with Windows, GTK+ 2.x or Cocoa support. If you are on Ubuntu or Debian, install libgtk2.0-dev and pkg-config, then re-run cmake or configure script in function 'cvShowImage'\n"
     ]
    }
   ],
   "source": [
    "import cv2\n",
    "\n",
    "# 讀取彩色影像\n",
    "image = cv2.imread('D:/Edge Project/Photo Storage/fighter.jpg')  # 請替換成你的影像檔案路徑\n",
    "\n",
    "# 轉換為灰階影像\n",
    "gray_image = cv2.cvtColor(image, cv2.COLOR_BGR2GRAY)\n",
    "\n",
    "# 儲存灰階影像\n",
    "cv2.imwrite('gray fighter.jpg', gray_image)\n",
    "\n",
    "# 顯示影像（可選）\n",
    "cv2.imshow('Gray Image', gray_image)\n",
    "cv2.waitKey(0)\n",
    "cv2.destroyAllWindows()"
   ]
  }
 ],
 "metadata": {
  "kernelspec": {
   "display_name": "Python 3",
   "language": "python",
   "name": "python3"
  },
  "language_info": {
   "codemirror_mode": {
    "name": "ipython",
    "version": 3
   },
   "file_extension": ".py",
   "mimetype": "text/x-python",
   "name": "python",
   "nbconvert_exporter": "python",
   "pygments_lexer": "ipython3",
   "version": "3.13.2"
  }
 },
 "nbformat": 4,
 "nbformat_minor": 5
}
