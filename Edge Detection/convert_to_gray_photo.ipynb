{
 "cells": [
  {
   "cell_type": "markdown",
   "id": "8af38073",
   "metadata": {},
   "source": [
    "#### Convert RGB to gray image "
   ]
  },
  {
   "cell_type": "markdown",
   "id": "0d1bf3ce",
   "metadata": {},
   "source": [
    "#### 前言\n",
    "在進行各種影像辨識前我們"
   ]
  },
  {
   "cell_type": "code",
   "execution_count": null,
   "id": "422d8a8e",
   "metadata": {},
   "outputs": [],
   "source": [
    "import cv2\n",
    "\n",
    "# 讀取彩色影像\n",
    "image = cv2.imread('D:/Edge Project/Photo Storage/fighter.jpg') \n",
    "\n",
    "# 轉換為灰階影像\n",
    "gray_image = cv2.cvtColor(image, cv2.COLOR_BGR2GRAY)\n",
    "\n",
    "# 儲存灰階影像\n",
    "cv2.imwrite('gray fighter.jpg', gray_image)\n",
    "\n",
    "# 顯示影像（可選）\n",
    "cv2.imshow('Gray Image', gray_image)\n",
    "cv2.waitKey(0)\n",
    "cv2.destroyAllWindows()"
   ]
  }
 ],
 "metadata": {
  "kernelspec": {
   "display_name": "Python 3",
   "language": "python",
   "name": "python3"
  },
  "language_info": {
   "codemirror_mode": {
    "name": "ipython",
    "version": 3
   },
   "file_extension": ".py",
   "mimetype": "text/x-python",
   "name": "python",
   "nbconvert_exporter": "python",
   "pygments_lexer": "ipython3",
   "version": "3.13.2"
  }
 },
 "nbformat": 4,
 "nbformat_minor": 5
}
