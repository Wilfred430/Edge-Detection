{
 "cells": [
  {
   "cell_type": "markdown",
   "id": "204907ee",
   "metadata": {
    "vscode": {
     "languageId": "plaintext"
    }
   },
   "source": [
    "### Convert RGB video to gray"
   ]
  },
  {
   "cell_type": "markdown",
   "id": "e4394eaf",
   "metadata": {},
   "source": []
  },
  {
   "cell_type": "code",
   "execution_count": 13,
   "id": "1be55a0e",
   "metadata": {},
   "outputs": [
    {
     "name": "stdout",
     "output_type": "stream",
     "text": [
      "灰階影片已儲存為 C:/Users/user/Downloads/gray_crowd.mp4\n"
     ]
    }
   ],
   "source": [
    "import cv2\n",
    "\n",
    "# 輸入與輸出影片路徑\n",
    "input_video_path = 'D:/Edge Project/Video Storage/crowd.mp4'\n",
    "output_video_path = 'C:/Users/user/Downloads/gray_crowd.mp4'\n",
    "\n",
    "# 開啟影片\n",
    "cap = cv2.VideoCapture(input_video_path)\n",
    "\n",
    "# 取得影片屬性\n",
    "frame_width = int(cap.get(cv2.CAP_PROP_FRAME_WIDTH))\n",
    "frame_height = int(cap.get(cv2.CAP_PROP_FRAME_HEIGHT))\n",
    "fps = cap.get(cv2.CAP_PROP_FPS)\n",
    "fourcc = cv2.VideoWriter_fourcc(*'mp4v')\n",
    "\n",
    "# 建立輸出影片物件（灰階影片）\n",
    "out = cv2.VideoWriter(output_video_path, fourcc, fps, (frame_width, frame_height), isColor=True)\n",
    "\n",
    "# 逐幀處理\n",
    "while cap.isOpened():\n",
    "    ret, frame = cap.read()\n",
    "    if not ret:\n",
    "        break\n",
    "\n",
    "    # 將彩色幀轉為灰階\n",
    "    gray_frame = cv2.cvtColor(frame, cv2.COLOR_BGR2GRAY)\n",
    "    gray_frame_3ch = cv2.cvtColor(gray_frame, cv2.COLOR_GRAY2BGR)\n",
    "\n",
    "    # 寫入灰階幀\n",
    "    out.write(gray_frame_3ch)\n",
    "\n",
    "# 釋放資源\n",
    "cap.release()\n",
    "out.release()\n",
    "\n",
    "print(f\"灰階影片已儲存為 {output_video_path}\")\n"
   ]
  },
  {
   "cell_type": "markdown",
   "id": "794410e3",
   "metadata": {},
   "source": []
  },
  {
   "cell_type": "code",
   "execution_count": null,
   "id": "83b24520",
   "metadata": {},
   "outputs": [],
   "source": []
  }
 ],
 "metadata": {
  "kernelspec": {
   "display_name": "Python 3",
   "language": "python",
   "name": "python3"
  },
  "language_info": {
   "codemirror_mode": {
    "name": "ipython",
    "version": 3
   },
   "file_extension": ".py",
   "mimetype": "text/x-python",
   "name": "python",
   "nbconvert_exporter": "python",
   "pygments_lexer": "ipython3",
   "version": "3.13.2"
  }
 },
 "nbformat": 4,
 "nbformat_minor": 5
}
